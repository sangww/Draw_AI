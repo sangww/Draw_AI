{
 "cells": [
  {
   "cell_type": "code",
   "execution_count": 1,
   "metadata": {},
   "outputs": [],
   "source": [
    "from data_utils import *\n",
    "from sketchrnn import *\n",
    "import matplotlib.pyplot as plt\n",
    "%load_ext autoreload\n",
    "%autoreload 2"
   ]
  },
  {
   "cell_type": "code",
   "execution_count": 2,
   "metadata": {},
   "outputs": [
    {
     "name": "stdout",
     "output_type": "stream",
     "text": [
      "Loaded 1715 segments of style 0\n",
      "Shape: (1715, 4, 100)\n",
      "Loaded 912 segments of style 1\n",
      "Shape: (912, 4, 100)\n",
      "Loaded 1469 segments of style 2\n",
      "Shape: (1469, 4, 100)\n"
     ]
    }
   ],
   "source": [
    "dataset = SmoothCurve(\"data/threecurves.csv\")"
   ]
  },
  {
   "cell_type": "code",
   "execution_count": 3,
   "metadata": {},
   "outputs": [
    {
     "name": "stderr",
     "output_type": "stream",
     "text": [
      "/home/artoriamaster_gmail_com/anaconda3/lib/python3.7/site-packages/torch/nn/modules/rnn.py:51: UserWarning: dropout option adds dropout after all but last recurrent layer, so non-zero dropout expects num_layers greater than 1, but got dropout=0.1 and num_layers=1\n",
      "  \"num_layers={}\".format(dropout, num_layers))\n",
      "/home/artoriamaster_gmail_com/Draw_AI/sketchrnn.py:119: UserWarning: Implicit dimension choice for softmax has been deprecated. Change the call to include dim=X as an argument.\n",
      "  pi = F.softmax(pi.transpose(0,1).squeeze()).view(len_out,-1,hp.M)\n",
      "/home/artoriamaster_gmail_com/Draw_AI/sketchrnn.py:359: UserWarning: torch.nn.utils.clip_grad_norm is now deprecated in favor of torch.nn.utils.clip_grad_norm_.\n",
      "  nn.utils.clip_grad_norm(self.encoder.parameters(), hp.grad_clip)\n",
      "/home/artoriamaster_gmail_com/Draw_AI/sketchrnn.py:360: UserWarning: torch.nn.utils.clip_grad_norm is now deprecated in favor of torch.nn.utils.clip_grad_norm_.\n",
      "  nn.utils.clip_grad_norm(self.decoder.parameters(), hp.grad_clip)\n"
     ]
    },
    {
     "name": "stdout",
     "output_type": "stream",
     "text": [
      "Epoch 0 Loss KL 0.10000000149011612 Loss R 2.3107006549835205\n",
      "Epoch 1 Loss KL 0.10000000149011612 Loss R 2.4840171337127686\n",
      "Epoch 2 Loss KL 0.10000000149011612 Loss R 2.667710542678833\n",
      "Epoch 3 Loss KL 0.10000000149011612 Loss R 2.6487746238708496\n",
      "Epoch 4 Loss KL 0.10000000149011612 Loss R 1.9966814517974854\n",
      "Epoch 5 Loss KL 0.10000000149011612 Loss R 2.4435946941375732\n",
      "Epoch 6 Loss KL 0.1028832420706749 Loss R 1.731133222579956\n",
      "Epoch 7 Loss KL 0.10000000149011612 Loss R 2.144609212875366\n",
      "Epoch 8 Loss KL 0.10000000149011612 Loss R 2.2514543533325195\n",
      "Epoch 9 Loss KL 0.10000000149011612 Loss R 2.2962565422058105\n",
      "Epoch 10 Loss KL 0.10000000149011612 Loss R 1.617090106010437\n",
      "Epoch 11 Loss KL 0.10000000149011612 Loss R 1.1813687086105347\n",
      "Epoch 12 Loss KL 0.10000000149011612 Loss R 1.6026744842529297\n",
      "Epoch 13 Loss KL 0.10000000149011612 Loss R 1.321362018585205\n",
      "Epoch 14 Loss KL 0.10000000149011612 Loss R 1.1752568483352661\n",
      "Epoch 15 Loss KL 0.10000000149011612 Loss R 0.9913817644119263\n",
      "Epoch 16 Loss KL 0.10000000149011612 Loss R 0.773224949836731\n",
      "Epoch 17 Loss KL 0.10000000149011612 Loss R 2.2432897090911865\n",
      "Epoch 18 Loss KL 0.10000000149011612 Loss R 0.37748104333877563\n",
      "Epoch 19 Loss KL 0.10000000149011612 Loss R 0.7090526223182678\n",
      "Epoch 20 Loss KL 0.10000000149011612 Loss R 0.6182526350021362\n",
      "Epoch 21 Loss KL 0.10000000149011612 Loss R 0.8606712222099304\n",
      "Epoch 22 Loss KL 0.10000000149011612 Loss R 0.22556710243225098\n",
      "Epoch 23 Loss KL 0.10000000149011612 Loss R 1.3278385400772095\n",
      "Epoch 24 Loss KL 0.10000000149011612 Loss R 0.9789265990257263\n",
      "Epoch 25 Loss KL 0.10000000149011612 Loss R -0.016525279730558395\n",
      "Epoch 26 Loss KL 0.10000000149011612 Loss R 0.5082753896713257\n",
      "Epoch 27 Loss KL 0.10000000149011612 Loss R 0.07275400310754776\n",
      "Epoch 28 Loss KL 0.10000000149011612 Loss R -0.12844769656658173\n",
      "Epoch 29 Loss KL 0.10000000149011612 Loss R 0.25521594285964966\n",
      "Epoch 30 Loss KL 0.10000000149011612 Loss R 0.518003523349762\n",
      "Epoch 31 Loss KL 0.10000000149011612 Loss R -0.29883742332458496\n",
      "Epoch 32 Loss KL 0.10000000149011612 Loss R 0.4506686329841614\n",
      "Epoch 33 Loss KL 0.10000000149011612 Loss R 0.03893972933292389\n",
      "Epoch 34 Loss KL 0.10000000149011612 Loss R 0.845535397529602\n",
      "Epoch 35 Loss KL 0.10000000149011612 Loss R 0.8932779431343079\n",
      "Epoch 36 Loss KL 0.10000000149011612 Loss R -0.6257013082504272\n",
      "Epoch 37 Loss KL 0.10000000149011612 Loss R 1.709991455078125\n",
      "Epoch 38 Loss KL 0.10000000149011612 Loss R -0.0873386561870575\n",
      "Epoch 39 Loss KL 0.10000000149011612 Loss R -0.717283308506012\n",
      "Epoch 40 Loss KL 0.10000000149011612 Loss R 0.35664284229278564\n",
      "Epoch 41 Loss KL 0.10000000149011612 Loss R -0.6649916172027588\n",
      "Epoch 42 Loss KL 0.10000000149011612 Loss R 0.38865038752555847\n",
      "Epoch 43 Loss KL 0.10000000149011612 Loss R -0.5086216330528259\n",
      "Epoch 44 Loss KL 0.10000000149011612 Loss R -0.43673163652420044\n",
      "Epoch 45 Loss KL 0.10000000149011612 Loss R 0.04790680855512619\n",
      "Epoch 46 Loss KL 0.10000000149011612 Loss R -0.5690120458602905\n",
      "Epoch 47 Loss KL 0.10000000149011612 Loss R -0.005946097429841757\n",
      "Epoch 48 Loss KL 0.10000000149011612 Loss R -0.4684801995754242\n",
      "Epoch 49 Loss KL 0.10011734068393707 Loss R -1.2952957153320312\n",
      "Epoch 50 Loss KL 0.10000000149011612 Loss R -0.5851158499717712\n",
      "Epoch 51 Loss KL 0.10000000149011612 Loss R 0.14115096628665924\n",
      "Epoch 52 Loss KL 0.10000000149011612 Loss R -0.4890232980251312\n",
      "Epoch 53 Loss KL 0.10000000149011612 Loss R -0.8183039426803589\n",
      "Epoch 54 Loss KL 0.10044538974761963 Loss R -0.12932343780994415\n",
      "Epoch 55 Loss KL 0.100129634141922 Loss R -0.35593268275260925\n",
      "Epoch 56 Loss KL 0.10000000149011612 Loss R -1.189871072769165\n",
      "Epoch 57 Loss KL 0.10000000149011612 Loss R -0.2913323938846588\n",
      "Epoch 58 Loss KL 0.10000000149011612 Loss R -0.3606860637664795\n",
      "Epoch 59 Loss KL 0.10000000149011612 Loss R -1.18955659866333\n",
      "Epoch 60 Loss KL 0.10000000149011612 Loss R -1.056021809577942\n",
      "Epoch 61 Loss KL 0.10000000149011612 Loss R -0.9229224920272827\n",
      "Epoch 62 Loss KL 0.10000000149011612 Loss R -0.5509812235832214\n",
      "Epoch 63 Loss KL 0.10000000149011612 Loss R -0.1439887136220932\n",
      "Epoch 64 Loss KL 0.10038134455680847 Loss R -1.1569725275039673\n",
      "Epoch 65 Loss KL 0.10000000149011612 Loss R -0.618691086769104\n",
      "Epoch 66 Loss KL 0.10000000149011612 Loss R -2.076899766921997\n",
      "Epoch 67 Loss KL 0.10000000149011612 Loss R -0.08618934452533722\n",
      "Epoch 68 Loss KL 0.10000000149011612 Loss R -0.531028687953949\n",
      "Epoch 69 Loss KL 0.10000000149011612 Loss R -1.1170392036437988\n",
      "Epoch 70 Loss KL 0.10068637877702713 Loss R -1.0995861291885376\n",
      "Epoch 71 Loss KL 0.10000000149011612 Loss R -1.214296579360962\n",
      "Epoch 72 Loss KL 0.10000000149011612 Loss R -1.0469833612442017\n",
      "Epoch 73 Loss KL 0.10000000149011612 Loss R -0.8736028671264648\n",
      "Epoch 74 Loss KL 0.10000000149011612 Loss R -1.040470838546753\n",
      "Epoch 75 Loss KL 0.10000000149011612 Loss R -1.1248912811279297\n",
      "Epoch 76 Loss KL 0.10000000149011612 Loss R -1.5629323720932007\n",
      "Epoch 77 Loss KL 0.10000000149011612 Loss R -0.9546409249305725\n",
      "Epoch 78 Loss KL 0.10000000149011612 Loss R -1.2082315683364868\n",
      "Epoch 79 Loss KL 0.10000000149011612 Loss R -0.8530958890914917\n",
      "Epoch 80 Loss KL 0.10000000149011612 Loss R -1.5759438276290894\n",
      "Epoch 81 Loss KL 0.10000000149011612 Loss R -1.0218372344970703\n",
      "Epoch 82 Loss KL 0.10000000149011612 Loss R -2.2735443115234375\n",
      "Epoch 83 Loss KL 0.10000000149011612 Loss R -1.9054296016693115\n",
      "Epoch 84 Loss KL 0.10000000149011612 Loss R -1.8624727725982666\n",
      "Epoch 85 Loss KL 0.10000000149011612 Loss R -1.1553863286972046\n",
      "Epoch 86 Loss KL 0.10000000149011612 Loss R -1.8162063360214233\n",
      "Epoch 87 Loss KL 0.10000000149011612 Loss R -1.4158579111099243\n",
      "Epoch 88 Loss KL 0.10000000149011612 Loss R -2.121236562728882\n",
      "Epoch 89 Loss KL 0.10000000149011612 Loss R -0.9499801397323608\n",
      "Epoch 90 Loss KL 0.10000000149011612 Loss R -0.8397320508956909\n",
      "Epoch 91 Loss KL 0.10000000149011612 Loss R -1.4260637760162354\n",
      "Epoch 92 Loss KL 0.10000000149011612 Loss R -1.2382707595825195\n",
      "Epoch 93 Loss KL 0.10000000149011612 Loss R -1.6575030088424683\n",
      "Epoch 94 Loss KL 0.10000000149011612 Loss R -1.8806862831115723\n",
      "Epoch 95 Loss KL 0.10000000149011612 Loss R -2.074155807495117\n",
      "Epoch 96 Loss KL 0.10000000149011612 Loss R -0.538759171962738\n",
      "Epoch 97 Loss KL 0.10000000149011612 Loss R -2.158719062805176\n",
      "Epoch 98 Loss KL 0.10000000149011612 Loss R -2.516679048538208\n",
      "Epoch 99 Loss KL 0.10000000149011612 Loss R -1.5866405963897705\n"
     ]
    }
   ],
   "source": [
    "hp.dropout = 0.1\n",
    "hp.Nz = 2\n",
    "model1 = SketchRNN_Control()\n",
    "dataloader = DataLoader(dataset, batch_size=16, shuffle=True, num_workers=0)\n",
    "for i in range(100):\n",
    "    model1.train(dataloader, i)"
   ]
  },
  {
   "cell_type": "code",
   "execution_count": 14,
   "metadata": {},
   "outputs": [
    {
     "name": "stdout",
     "output_type": "stream",
     "text": [
      "Epoch 100 Loss KL 0.10000000149011612 Loss R -1.7627612352371216\n",
      "Epoch 101 Loss KL 0.10000000149011612 Loss R -2.741323709487915\n",
      "Epoch 102 Loss KL 0.10000000149011612 Loss R -1.9292547702789307\n",
      "Epoch 103 Loss KL 0.10000000149011612 Loss R -1.6001540422439575\n",
      "Epoch 104 Loss KL 0.10000000149011612 Loss R -1.2492530345916748\n",
      "Epoch 105 Loss KL 0.10000000149011612 Loss R -1.9706072807312012\n",
      "Epoch 106 Loss KL 0.10000000149011612 Loss R -2.500837564468384\n",
      "Epoch 107 Loss KL 0.10000000149011612 Loss R -1.885589599609375\n",
      "Epoch 108 Loss KL 0.10000000149011612 Loss R -1.9514199495315552\n",
      "Epoch 109 Loss KL 0.10000000149011612 Loss R -2.2747042179107666\n",
      "Epoch 110 Loss KL 0.10000000149011612 Loss R -2.4725024700164795\n",
      "Epoch 111 Loss KL 0.10000000149011612 Loss R -1.672156810760498\n",
      "Epoch 112 Loss KL 0.10000000149011612 Loss R -1.916982650756836\n",
      "Epoch 113 Loss KL 0.10000000149011612 Loss R -1.7558425664901733\n",
      "Epoch 114 Loss KL 0.10000000149011612 Loss R -2.1690025329589844\n",
      "Epoch 115 Loss KL 0.10000000149011612 Loss R -2.048318386077881\n",
      "Epoch 116 Loss KL 0.10000000149011612 Loss R -2.5046582221984863\n",
      "Epoch 117 Loss KL 0.10000000149011612 Loss R -2.4014623165130615\n",
      "Epoch 118 Loss KL 0.10000000149011612 Loss R -2.8062994480133057\n",
      "Epoch 119 Loss KL 0.10000000149011612 Loss R -2.1180708408355713\n",
      "Epoch 120 Loss KL 0.10000000149011612 Loss R -1.899180293083191\n",
      "Epoch 121 Loss KL 0.10000000149011612 Loss R -1.6321303844451904\n",
      "Epoch 122 Loss KL 0.10000000149011612 Loss R -2.436471939086914\n",
      "Epoch 123 Loss KL 0.10000000149011612 Loss R -2.4733808040618896\n",
      "Epoch 124 Loss KL 0.10000000149011612 Loss R -2.4794023036956787\n",
      "Epoch 125 Loss KL 0.10000000149011612 Loss R -1.7387667894363403\n",
      "Epoch 126 Loss KL 0.10000000149011612 Loss R -2.6881017684936523\n",
      "Epoch 127 Loss KL 0.10012620687484741 Loss R -2.966501474380493\n",
      "Epoch 128 Loss KL 0.10000000149011612 Loss R -2.533320903778076\n",
      "Epoch 129 Loss KL 0.10000000149011612 Loss R -2.8629374504089355\n",
      "Epoch 130 Loss KL 0.10000000149011612 Loss R -2.5322256088256836\n",
      "Epoch 131 Loss KL 0.10000000149011612 Loss R -2.4435532093048096\n",
      "Epoch 132 Loss KL 0.10000000149011612 Loss R -1.8127026557922363\n",
      "Epoch 133 Loss KL 0.10000000149011612 Loss R -1.6103713512420654\n",
      "Epoch 134 Loss KL 0.10000000149011612 Loss R -2.5310587882995605\n",
      "Epoch 135 Loss KL 0.10065814852714539 Loss R -3.3580408096313477\n",
      "Epoch 136 Loss KL 0.10000000149011612 Loss R -2.8765275478363037\n",
      "Epoch 137 Loss KL 0.10000000149011612 Loss R -2.46338152885437\n",
      "Epoch 138 Loss KL 0.10011410713195801 Loss R -3.244114398956299\n",
      "Epoch 139 Loss KL 0.10065419971942902 Loss R -2.8645753860473633\n",
      "Epoch 140 Loss KL 0.10000000149011612 Loss R -2.279442071914673\n",
      "Epoch 141 Loss KL 0.10000000149011612 Loss R -2.339186191558838\n",
      "Epoch 142 Loss KL 0.10000000149011612 Loss R -2.2920424938201904\n",
      "Epoch 143 Loss KL 0.10000000149011612 Loss R -2.4917476177215576\n",
      "Epoch 144 Loss KL 0.10000000149011612 Loss R -1.7640191316604614\n",
      "Epoch 145 Loss KL 0.10000000149011612 Loss R -2.5999138355255127\n",
      "Epoch 146 Loss KL 0.10000000149011612 Loss R -3.1421711444854736\n",
      "Epoch 147 Loss KL 0.10000000149011612 Loss R -2.6403090953826904\n",
      "Epoch 148 Loss KL 0.10000000149011612 Loss R -2.813283681869507\n",
      "Epoch 149 Loss KL 0.10000000149011612 Loss R -1.8985415697097778\n",
      "Epoch 150 Loss KL 0.10000000149011612 Loss R -1.9633805751800537\n",
      "Epoch 151 Loss KL 0.10000000149011612 Loss R -3.257700204849243\n",
      "Epoch 152 Loss KL 0.10015042126178741 Loss R -2.951458692550659\n",
      "Epoch 153 Loss KL 0.10000000149011612 Loss R -2.3546223640441895\n",
      "Epoch 154 Loss KL 0.10000000149011612 Loss R -2.7320055961608887\n",
      "Epoch 155 Loss KL 0.10000000149011612 Loss R -3.1542110443115234\n",
      "Epoch 156 Loss KL 0.10009180009365082 Loss R -4.223337173461914\n",
      "Epoch 157 Loss KL 0.10000000149011612 Loss R -2.841585636138916\n",
      "Epoch 158 Loss KL 0.10000000149011612 Loss R -3.074320077896118\n",
      "Epoch 159 Loss KL 0.10000000149011612 Loss R -3.228391647338867\n",
      "Epoch 160 Loss KL 0.10000000149011612 Loss R -3.006554126739502\n",
      "Epoch 161 Loss KL 0.10000000149011612 Loss R -3.550459623336792\n",
      "Epoch 162 Loss KL 0.10000000149011612 Loss R -2.5288281440734863\n",
      "Epoch 163 Loss KL 0.10000000149011612 Loss R -3.0365545749664307\n",
      "Epoch 164 Loss KL 0.10000000149011612 Loss R -2.6037726402282715\n",
      "Epoch 165 Loss KL 0.10000000149011612 Loss R -2.5497446060180664\n",
      "Epoch 166 Loss KL 0.10000000149011612 Loss R -3.2156949043273926\n",
      "Epoch 167 Loss KL 0.10000000149011612 Loss R -3.090202569961548\n",
      "Epoch 168 Loss KL 0.10000000149011612 Loss R -3.2295429706573486\n",
      "Epoch 169 Loss KL 0.10000000149011612 Loss R -3.120795726776123\n",
      "Epoch 170 Loss KL 0.10000000149011612 Loss R -2.884373903274536\n",
      "Epoch 171 Loss KL 0.10000000149011612 Loss R -2.8509044647216797\n",
      "Epoch 172 Loss KL 0.10000000149011612 Loss R -3.3344602584838867\n",
      "Epoch 173 Loss KL 0.10000000149011612 Loss R -2.8968842029571533\n",
      "Epoch 174 Loss KL 0.10000000149011612 Loss R -3.3942577838897705\n",
      "Epoch 175 Loss KL 0.10000000149011612 Loss R -2.791435480117798\n",
      "Epoch 176 Loss KL 0.10000000149011612 Loss R -3.518455982208252\n",
      "Epoch 177 Loss KL 0.10085386037826538 Loss R -3.711669921875\n",
      "Epoch 178 Loss KL 0.10000000149011612 Loss R -2.414701461791992\n",
      "Epoch 179 Loss KL 0.10000000149011612 Loss R -3.2192723751068115\n",
      "Epoch 180 Loss KL 0.10000000149011612 Loss R -3.347097158432007\n",
      "Epoch 181 Loss KL 0.10000000149011612 Loss R -2.285201072692871\n",
      "Epoch 182 Loss KL 0.10000000149011612 Loss R -3.533633232116699\n",
      "Epoch 183 Loss KL 0.10001254081726074 Loss R -3.819697856903076\n",
      "Epoch 184 Loss KL 0.10000000149011612 Loss R -3.4562861919403076\n",
      "Epoch 185 Loss KL 0.10000000149011612 Loss R -3.8828208446502686\n",
      "Epoch 186 Loss KL 0.10000000149011612 Loss R -3.5512712001800537\n",
      "Epoch 187 Loss KL 0.10000000149011612 Loss R -2.8148903846740723\n",
      "Epoch 188 Loss KL 0.10000000149011612 Loss R -3.8153207302093506\n",
      "Epoch 189 Loss KL 0.10000000149011612 Loss R -3.7736449241638184\n",
      "Epoch 190 Loss KL 0.10000000149011612 Loss R -2.89288330078125\n",
      "Epoch 191 Loss KL 0.10000000149011612 Loss R -2.4409260749816895\n",
      "Epoch 192 Loss KL 0.10000142455101013 Loss R -3.1505565643310547\n",
      "Epoch 193 Loss KL 0.10000000149011612 Loss R -4.306127071380615\n",
      "Epoch 194 Loss KL 0.10011982917785645 Loss R -2.5367190837860107\n",
      "Epoch 195 Loss KL 0.10000000149011612 Loss R -2.985952138900757\n",
      "Epoch 196 Loss KL 0.10000000149011612 Loss R -1.8411765098571777\n",
      "Epoch 197 Loss KL 0.10000000149011612 Loss R -3.7010433673858643\n",
      "Epoch 198 Loss KL 0.10000000149011612 Loss R -2.9832229614257812\n",
      "Epoch 199 Loss KL 0.10000000149011612 Loss R -3.179971218109131\n"
     ]
    }
   ],
   "source": [
    "hp.lr = 0.0005\n",
    "for i in range(100, 200):\n",
    "    model1.train(dataloader, i)"
   ]
  },
  {
   "cell_type": "code",
   "execution_count": 25,
   "metadata": {},
   "outputs": [
    {
     "name": "stdout",
     "output_type": "stream",
     "text": [
      "Encoded style:  [0. 0. 1.]\n"
     ]
    },
    {
     "data": {
      "image/png": "[encoded data removed]",
      "text/plain": [
       "<Figure size 432x288 with 1 Axes>"
      ]
     },
     "metadata": {
      "needs_background": "light"
     },
     "output_type": "display_data"
    }
   ],
   "source": [
    "idx = 4000\n",
    "data, style = dataset[idx]\n",
    "controldx = data[2, :].copy()\n",
    "controldy = data[3, :].copy()\n",
    "inputs = torch.FloatTensor(data[2:, :]).cuda().unsqueeze(0).permute(2, 0, 1)\n",
    "labels = torch.FloatTensor(style).cuda().unsqueeze(0)\n",
    "xs, ys, dx, dy = model1.conditional_generation(inputs, labels)\n",
    "plt.scatter(xs, ys)\n",
    "#controlx = np.cumsum(controldx)\n",
    "#controly = np.cumsum(controldy)\n",
    "#plt.plot(controlx, controly)\n",
    "dataset.visualize(idx)\n",
    "#plt.plot(dx)\n",
    "#plt.plot(dy)\n",
    "#dataset.visualize_d(idx)"
   ]
  },
  {
   "cell_type": "code",
   "execution_count": 4,
   "metadata": {},
   "outputs": [
    {
     "data": {
      "text/plain": [
       "(4, 100)"
      ]
     },
     "execution_count": 4,
     "metadata": {},
     "output_type": "execute_result"
    }
   ],
   "source": [
    "data, style = dataset[0]\n",
    "data.shape"
   ]
  },
  {
   "cell_type": "code",
   "execution_count": 27,
   "metadata": {},
   "outputs": [
    {
     "name": "stdout",
     "output_type": "stream",
     "text": [
      "4096\n"
     ]
    },
    {
     "data": {
      "text/plain": [
       "<matplotlib.collections.PathCollection at 0x7f20e5eb7090>"
      ]
     },
     "execution_count": 27,
     "metadata": {},
     "output_type": "execute_result"
    },
    {
     "data": {
      "image/png": "[encoded data removed]",
      "text/plain": [
       "<Figure size 432x288 with 1 Axes>"
      ]
     },
     "metadata": {
      "needs_background": "light"
     },
     "output_type": "display_data"
    }
   ],
   "source": [
    "x1 = []\n",
    "x2 = []\n",
    "n = 0\n",
    "m = 0\n",
    "for i in range(len(dataset)):\n",
    "    data, style = dataset[i]\n",
    "    #if style[0] < 0.5:\n",
    "    #    continue\n",
    "    n += 1\n",
    "    inputs = torch.FloatTensor(data[2:, :]).cuda().unsqueeze(0).permute(2, 0, 1)\n",
    "    labels = torch.FloatTensor(style).cuda().unsqueeze(0)\n",
    "    \n",
    "    model1.encoder.train(False)\n",
    "    z, mu, sigma_hat = model1.encoder(inputs, labels)\n",
    "    z = z.squeeze().detach().cpu().numpy()\n",
    "    x1.append(z[0])\n",
    "    x2.append(z[1])\n",
    "print(n)\n",
    "plt.scatter(x1, x2, s=1)"
   ]
  }
 ],
 "metadata": {
  "kernelspec": {
   "display_name": "Python 3",
   "language": "python",
   "name": "python3"
  },
  "language_info": {
   "codemirror_mode": {
    "name": "ipython",
    "version": 3
   },
   "file_extension": ".py",
   "mimetype": "text/x-python",
   "name": "python",
   "nbconvert_exporter": "python",
   "pygments_lexer": "ipython3",
   "version": "3.7.4"
  }
 },
 "nbformat": 4,
 "nbformat_minor": 2
}
